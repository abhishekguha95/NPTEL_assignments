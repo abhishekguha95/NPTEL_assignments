{
 "cells": [
  {
   "cell_type": "markdown",
   "metadata": {},
   "source": [
    "# Week 2 Programming Assignment"
   ]
  },
  {
   "cell_type": "raw",
   "metadata": {},
   "source": [
    "# 1.A positive integer m is a prime product if it can be written as p×q, where p and q are both primes. .\n",
    "\n",
    "Write a Python function primeproduct(m) that takes an integer m as input and returns True if m is a prime product and False otherwise. (If m is not positive, your function should return False.)\n",
    "\n",
    "Here are some examples of how your function should work.\n",
    "\n",
    ">>> primeproduct(6)\n",
    "True\n",
    "\n",
    ">>> primeproduct(188)\n",
    "False\n",
    "\n",
    ">>> primeproduct(202)\n",
    "True"
   ]
  },
  {
   "cell_type": "code",
   "execution_count": null,
   "metadata": {},
   "outputs": [],
   "source": [
    "def primeproduct(m):\n",
    "    if m > 0:\n",
    "        def factors(n):\n",
    "            fl = []\n",
    "            for i in range(1,n+1):\n",
    "                if n % i == 0:\n",
    "                    fl.append(i)\n",
    "            return fl\n",
    "        \n",
    "        fa = factors(m)\n",
    "        a = fa[1]\n",
    "        b = fa[2]\n",
    "        \n",
    "    if (factors(a) == [1,a]) and ((factors(b) == [1,b])):\n",
    "        c = True\n",
    "    else: \n",
    "        c =  False\n",
    "    return c"
   ]
  },
  {
   "cell_type": "code",
   "execution_count": null,
   "metadata": {},
   "outputs": [],
   "source": []
  },
  {
   "cell_type": "raw",
   "metadata": {},
   "source": [
    "#2. Write a function delchar(s,c) that takes as input strings s and c, where c has length 1 (i.e., a single character), and returns the string obtained by deleting all occurrences of c in s. If c has length other than 1, the function should return s\n",
    "\n",
    "Here are some examples to show how your function should work.\n",
    "\n",
    " \n",
    ">>> delchar(\"banana\",\"b\")\n",
    "'anana'\n",
    "\n",
    ">>> delchar(\"banana\",\"a\")\n",
    "'bnn'\n",
    "\n",
    ">>> delchar(\"banana\",\"n\")\n",
    "'baaa'\n",
    "\n",
    ">>> delchar(\"banana\",\"an\")\n",
    "'banana'"
   ]
  },
  {
   "cell_type": "code",
   "execution_count": null,
   "metadata": {},
   "outputs": [],
   "source": [
    "def delchar(s,c):\n",
    "    a = \"\"\n",
    "    for i in range(0,len(s)):\n",
    "        if s[i] != c:\n",
    "            a = a + s[i]\n",
    "    return a"
   ]
  },
  {
   "cell_type": "code",
   "execution_count": null,
   "metadata": {},
   "outputs": [],
   "source": []
  },
  {
   "cell_type": "raw",
   "metadata": {},
   "source": [
    "#3. Write a function shuffle(l1,l2) that takes as input two lists, 11 and l2, and returns a list consisting of the first elment in l1, then the first element in l2, then the second element in l2, then the second element in l2, and so on. If the two lists are not of equal length, the remaining elements of the longer list are appended at the end of the shuffled output.\n",
    "\n",
    "Here are some examples to show how your function should work.\n",
    "\n",
    ">>> shuffle([0,2,4],[1,3,5])\n",
    "[0, 1, 2, 3, 4, 5]\n",
    "\n",
    ">>> shuffle([0,2,4],[1])\n",
    "[0, 1, 2, 4]\n",
    "\n",
    ">>> shuffle([0],[1,3,5])\n",
    "[0, 1, 3, 5]"
   ]
  },
  {
   "cell_type": "code",
   "execution_count": null,
   "metadata": {},
   "outputs": [],
   "source": [
    "def shuffle(l1,l2):\n",
    "    l3 = list()\n",
    "    l4 = list()\n",
    "    m = min(len(l1),len(l2))\n",
    "    for i in range(0,m):\n",
    "        l3.append(l1[i])\n",
    "        l3.append(l2[i])   \n",
    "\n",
    "    if len(l1) > len(l2):\n",
    "        l4 = l1[m:]\n",
    "        for j in range(0,len(l4)):\n",
    "            l3.append(l4[j])\n",
    "    else:s\n",
    "        l4 = l2[m:]\n",
    "        for j in range(0,len(l4)):\n",
    "            l3.append(l4[j])\n",
    "    return l3"
   ]
  },
  {
   "cell_type": "code",
   "execution_count": null,
   "metadata": {},
   "outputs": [],
   "source": []
  }
 ],
 "metadata": {
  "kernelspec": {
   "display_name": "Python 3",
   "language": "python",
   "name": "python3"
  },
  "language_info": {
   "codemirror_mode": {
    "name": "ipython",
    "version": 3
   },
   "file_extension": ".py",
   "mimetype": "text/x-python",
   "name": "python",
   "nbconvert_exporter": "python",
   "pygments_lexer": "ipython3",
   "version": "3.6.10"
  }
 },
 "nbformat": 4,
 "nbformat_minor": 4
}
