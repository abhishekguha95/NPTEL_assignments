{
 "cells": [
  {
   "cell_type": "markdown",
   "metadata": {},
   "source": [
    "# Week 4 Assignment"
   ]
  },
  {
   "cell_type": "raw",
   "metadata": {},
   "source": [
    "#1. Give r,c as matrix size and display the matrix\n",
    "Example:\n",
    "\n",
    "Input:\n",
    "3 4\n",
    "\n",
    "Output:\n",
    "1 2 3 4\n",
    "5 6 7 8\n",
    "9 10 11 12"
   ]
  },
  {
   "cell_type": "code",
   "execution_count": null,
   "metadata": {},
   "outputs": [],
   "source": [
    "r, c = input().split()                              ## giving matrix size\n",
    "r = int(r)\n",
    "c = int(c)\n",
    "\n",
    "for j in range(r):                                   ##print formatting the elements to display matrix \n",
    "    for i in range(c):\n",
    "        v= j*c + i +1\n",
    "        if i != c-1:\n",
    "            print(v, end = \" \")\n",
    "        else:\n",
    "            print(v,end = \"\")\n",
    "    if j != r-1:\n",
    "        print(\"\")\n",
    "    else:\n",
    "        break"
   ]
  },
  {
   "cell_type": "code",
   "execution_count": null,
   "metadata": {},
   "outputs": [],
   "source": []
  },
  {
   "cell_type": "raw",
   "metadata": {},
   "source": [
    "#2.Return factorial of given input number"
   ]
  },
  {
   "cell_type": "code",
   "execution_count": 1,
   "metadata": {},
   "outputs": [
    {
     "name": "stdout",
     "output_type": "stream",
     "text": [
      "-2\n",
      "1\n"
     ]
    }
   ],
   "source": [
    "##return factorial for given number\n",
    "n = int(input())\n",
    "f = 1\n",
    "for i in range(n,0,-1):\n",
    "    f = f*i\n",
    "    #print(f)\n",
    "print(f)"
   ]
  },
  {
   "cell_type": "code",
   "execution_count": null,
   "metadata": {},
   "outputs": [],
   "source": []
  },
  {
   "cell_type": "raw",
   "metadata": {},
   "source": [
    "#3.Give list size and list elements. Sort list by choosing random indexes and swapping them till list is sorted. Print elements of sorted list in the end."
   ]
  },
  {
   "cell_type": "code",
   "execution_count": null,
   "metadata": {},
   "outputs": [],
   "source": [
    "import random\n",
    "\n",
    "n = int(input())                            #getting list length\n",
    "temp = 0\n",
    "\n",
    "list_1 = []                                 ##giving list elements\n",
    "for i in range(n):\n",
    "    element = list_1.append(int(input()))\n",
    "\n",
    "\n",
    "m = len(list_1)\n",
    "#print(list_1)\n",
    "#print('m',m)\n",
    "\n",
    "#c = 0\n",
    "\n",
    "while(True ):\n",
    "    c=0\n",
    "    print('c initiliazed')                   ##choosing random indexes\n",
    "    a = random.randint(0,m-1)\n",
    "    #print('a',a)\n",
    "    b = random.randint(0,m-1)\n",
    "   # print('b',b)\n",
    "    temp = list_1[a]                         ##swapping the elements\n",
    "    list_1[a] = list_1[b]\n",
    "    list_1[b] = temp\n",
    "    \n",
    "\n",
    "#     for k in range(0,m-1):\n",
    "#         print(k,list_1[k])\n",
    "       \n",
    "    for j in range(0,m-1):                   #checking if list is sorted or not by updating the counter c\n",
    "        #print('check',j+1)           \n",
    "        #print(list_1) \n",
    "        if list_1[j] < list_1[j+1]:\n",
    "            c = c+1\n",
    "        #print('c',c)                        ##if whole list is sorted counter becomes n-1\n",
    "            \n",
    "           \n",
    "    if c == n-1:                             ##stopping while loop if list is sorted and counter is n-1\n",
    "        break\n",
    "    \n",
    "for i in range(n):                           ## print formatting\n",
    "    if i != n-1:\n",
    "        print(list_1[i],end=\" \")\n",
    "    else:\n",
    "        print(list_1[i],end=\"\")            \n",
    "\n",
    "#print(list_1) \n"
   ]
  },
  {
   "cell_type": "code",
   "execution_count": null,
   "metadata": {},
   "outputs": [],
   "source": []
  }
 ],
 "metadata": {
  "kernelspec": {
   "display_name": "Python 3",
   "language": "python",
   "name": "python3"
  },
  "language_info": {
   "codemirror_mode": {
    "name": "ipython",
    "version": 3
   },
   "file_extension": ".py",
   "mimetype": "text/x-python",
   "name": "python",
   "nbconvert_exporter": "python",
   "pygments_lexer": "ipython3",
   "version": "3.6.12"
  }
 },
 "nbformat": 4,
 "nbformat_minor": 4
}
