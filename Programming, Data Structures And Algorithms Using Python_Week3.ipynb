{
 "cells": [
  {
   "cell_type": "markdown",
   "metadata": {},
   "source": [
    "# Week 3 Programming Assignment"
   ]
  },
  {
   "cell_type": "raw",
   "metadata": {},
   "source": [
    "#1. Write a function contracting(l) that takes as input a list of integer l and returns True if the absolute difference between each adjacent pair of elements strictly decreases.\n",
    "\n",
    "Here are some examples of how your function should work.\n",
    "\n",
    "  >>> contracting([9,2,7,3,1])\n",
    "  True\n",
    "\n",
    "  >>> contracting([-2,3,7,2,-1]) \n",
    "  False\n",
    "\n",
    "  >>> contracting([10,7,4,1])\n",
    "  False"
   ]
  },
  {
   "cell_type": "code",
   "execution_count": null,
   "metadata": {},
   "outputs": [],
   "source": [
    "def contracting(l):\n",
    "    p = True\n",
    "    for i in range(len(l)-2):\n",
    "        a = abs( l[i] - l[i+1])\n",
    "        b = abs(l[i+1] - l[i+2])\n",
    "        if a <= b:\n",
    "            p = False\n",
    "            break\n",
    "    return(p)"
   ]
  },
  {
   "cell_type": "code",
   "execution_count": null,
   "metadata": {},
   "outputs": [],
   "source": []
  },
  {
   "cell_type": "raw",
   "metadata": {},
   "source": [
    "#2. In a list of integers l, the neighbours of l[i] are l[i-1] and l[i+1]. l[i] is a hill if it is strictly greater than its neighbours and a valley if it is strictly less than its neighbours.\n",
    "Write a function counthv(l) that takes as input a list of integers l and returns a list [hc,vc] where hc is the number of hills in l and vc is the number of valleys in l.\n",
    "\n",
    "Here are some examples to show how your function should work.\n",
    "\n",
    " \n",
    ">>> counthv([1,2,1,2,3,2,1])\n",
    "[2, 1]\n",
    "\n",
    ">>> counthv([1,2,3,1])\n",
    "[1, 0]\n",
    "\n",
    ">>> counthv([3,1,2,3])\n",
    "[0, 1]"
   ]
  },
  {
   "cell_type": "code",
   "execution_count": null,
   "metadata": {},
   "outputs": [],
   "source": [
    "def counthv(l):\n",
    "    (hc, vc)= (0,0)\n",
    "    for i in range (1,len(l)-1):\n",
    "        if l[i] > l[i-1] and l[i] > l[i+1]:\n",
    "            hc = hc + 1\n",
    "        if l[i] < l[i-1] and l[i] < l[i+1]:\n",
    "            vc  = vc +1\n",
    "    return([hc,vc])"
   ]
  },
  {
   "cell_type": "code",
   "execution_count": null,
   "metadata": {},
   "outputs": [],
   "source": []
  },
  {
   "cell_type": "raw",
   "metadata": {},
   "source": [
    "#3. A square n×n matrix of integers can be written in Python as a list with n elements, where each element is in turn a list of n integers, representing a row of the matrix. For instance, the matrix\n",
    "\n",
    "  1  2  3\n",
    "  4  5  6\n",
    "  7  8  9\n",
    "would be represented as [[1,2,3], [4,5,6], [7,8,9]].\n",
    "\n",
    "Write a function leftrotate(m) that takes a list representation m of a square matrix as input, and returns the matrix obtained by rotating the original matrix counterclockwize by 90 degrees. For instance, if we rotate the matrix above, we get\n",
    "\n",
    "  3  6  9\n",
    "  2  5  8    \n",
    "  1  4  7\n",
    "Your function should not modify the argument m provided to the function rotate().\n",
    "\n",
    "Here are some examples of how your function should work.\n",
    "\n",
    " \n",
    "  >>> leftrotate([[1,2],[3,4]])\n",
    "  [[2, 4], [1, 3]]\n",
    "\n",
    "  >>> leftrotate([[1,2,3],[4,5,6],[7,8,9]])\n",
    "  [[3, 6, 9], [2, 5, 8], [1, 4, 7]]\n",
    "\n",
    "  >>> leftrotate([[1,1,1],[2,2,2],[3,3,3]])\n",
    "  [[1, 2, 3], [1, 2, 3], [1, 2, 3]]"
   ]
  },
  {
   "cell_type": "code",
   "execution_count": null,
   "metadata": {},
   "outputs": [],
   "source": [
    "def leftrotate(m):\n",
    "    n  = len(m)\n",
    "    k  = [ [ 0 for i in range(n) ] for j in range(n) ]\n",
    "    #print(k)\n",
    "    for i in range(n-1,-1,-1):\n",
    "        for j in range(0,n):\n",
    "            #print(j,i,m[j][i])\n",
    "            #print(m)\n",
    "            k[n-i-1][j] = m[j][i]        \n",
    "            \n",
    "    return(k)"
   ]
  },
  {
   "cell_type": "code",
   "execution_count": null,
   "metadata": {},
   "outputs": [],
   "source": []
  }
 ],
 "metadata": {
  "kernelspec": {
   "display_name": "Python 3",
   "language": "python",
   "name": "python3"
  },
  "language_info": {
   "codemirror_mode": {
    "name": "ipython",
    "version": 3
   },
   "file_extension": ".py",
   "mimetype": "text/x-python",
   "name": "python",
   "nbconvert_exporter": "python",
   "pygments_lexer": "ipython3",
   "version": "3.6.10"
  }
 },
 "nbformat": 4,
 "nbformat_minor": 4
}
