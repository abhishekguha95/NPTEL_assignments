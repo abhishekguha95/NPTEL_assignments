{
 "cells": [
  {
   "cell_type": "markdown",
   "metadata": {},
   "source": [
    "# Week 5 Assignment"
   ]
  },
  {
   "cell_type": "raw",
   "metadata": {},
   "source": [
    "#1. You have seen in the videos that how powerful dictionary data structure is.\n",
    "In this assignment, given a number n, you have to write a program that generates a dictionary d which contains (i, i*i), where i is from 1 to n (both included).\n",
    "Then you have to just print this dictionary d.\n",
    "\n",
    "Example:\n",
    "Input: 4\n",
    "\n",
    "will give output as\n",
    "{1: 1, 2: 4, 3: 9, 4: 16}"
   ]
  },
  {
   "cell_type": "code",
   "execution_count": 7,
   "metadata": {},
   "outputs": [
    {
     "name": "stdout",
     "output_type": "stream",
     "text": [
      "4\n",
      "{1: 1, 2: 4, 3: 9, 4: 16}\n"
     ]
    }
   ],
   "source": [
    "n = int(input())\n",
    "d = dict()\n",
    "for i in range(1,n+1):\n",
    "    d[i] = i*i\n",
    "    \n",
    "print(d) "
   ]
  },
  {
   "cell_type": "code",
   "execution_count": null,
   "metadata": {},
   "outputs": [],
   "source": []
  },
  {
   "cell_type": "raw",
   "metadata": {},
   "source": [
    "#2. There is a robot which wants to go the charging point to charge itself. The robot moves in a 2-D plane from the original point (0,0). The robot can move toward UP, DOWN, LEFT and RIGHT with given steps. The trace of robot movement is shown as the following: UP 5 DOWN 3 LEFT 3 RIGHT 2 Then, the output of the program should be: 2 The numbers after the direction are steps. Write a program to compute the distance between the current position after a sequence of movement and original point. If the distance is a float, then just print the nearest integer (use round() function for that and then convert it into an integer). Input Format: The first line of the input contains a number n which implies the number of directions to be given. The next n lines contain the direction and the step separated by a space. Output Format: Print the distance from the original position to the current position. Example: Input: 4 UP 5 DOWN 3 LEFT 3 RIGHT 2 Output: 2 Explanation: After the movements, the robot is at the position (-1, 2). Distance from the (0, 0) to the point (-1, 2) is calculated using Euclidean distance. The round value of which is 2.0, and int value is 2. NOTE: Import math library and use the sqrt() function of the math library to compute the Euclidean distance."
   ]
  },
  {
   "cell_type": "code",
   "execution_count": 7,
   "metadata": {},
   "outputs": [
    {
     "name": "stdout",
     "output_type": "stream",
     "text": [
      "4\n",
      "up 2\n",
      "u\n",
      "down 3\n",
      "d\n",
      "left 2\n",
      "l\n",
      "right 5\n",
      "r\n",
      "3\n"
     ]
    }
   ],
   "source": [
    "import math\n",
    "n = int(input())\n",
    "a = 0                                                 #initializing the present coordinates\n",
    "b = 0\n",
    "for i in range(n):\n",
    "    p = input()\n",
    "    #print(p[0])\n",
    "    if(p[0] == 'u' or p[0] == 'U'):                    # updating coordinates according to input steps given\n",
    "        a += int(p[3:])\n",
    "    elif (p[0] == 'd' or p[0] == 'D'):\n",
    "        a -= int(p[5:])\n",
    "    elif (p[0] == 'r' or p[0] == 'R'):\n",
    "        b += int(p[6:])\n",
    "    elif (p[0] == 'l' or p[0] == 'L'):\n",
    "        b -= int(p[5:])\n",
    "    #print(a,b)\n",
    "    \n",
    "dist = math.sqrt(a*a + b*b)                             # calculating distance                        \n",
    "print(round(dist))                                      #printing distance rounding off to nearest integer"
   ]
  },
  {
   "cell_type": "code",
   "execution_count": 14,
   "metadata": {},
   "outputs": [
    {
     "data": {
      "text/plain": [
       "56"
      ]
     },
     "execution_count": 14,
     "metadata": {},
     "output_type": "execute_result"
    }
   ],
   "source": [
    "def func (i,f):\n",
    "    if i ==0:\n",
    "        "
   ]
  },
  {
   "cell_type": "code",
   "execution_count": null,
   "metadata": {},
   "outputs": [],
   "source": [
    "def printDict():\n",
    "    n = int(input())\n",
    "    d = dict()\n",
    "    for i in range(1,n+1):\n",
    "        d[i] = i*i\n",
    "    \n",
    "    print(d,end=\"\") \n",
    "    \n",
    "printDict()"
   ]
  }
 ],
 "metadata": {
  "kernelspec": {
   "display_name": "Python 3",
   "language": "python",
   "name": "python3"
  },
  "language_info": {
   "codemirror_mode": {
    "name": "ipython",
    "version": 3
   },
   "file_extension": ".py",
   "mimetype": "text/x-python",
   "name": "python",
   "nbconvert_exporter": "python",
   "pygments_lexer": "ipython3",
   "version": "3.6.12"
  }
 },
 "nbformat": 4,
 "nbformat_minor": 4
}
