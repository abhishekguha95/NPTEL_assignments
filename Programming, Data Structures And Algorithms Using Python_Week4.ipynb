{
 "cells": [
  {
   "cell_type": "markdown",
   "metadata": {},
   "source": [
    "# Week 4 Programming Assignment"
   ]
  },
  {
   "cell_type": "raw",
   "metadata": {},
   "source": [
    "#1. Write a Python function frequency(l) that takes as input a list of integers and returns a pair of the form (minfreqlist,maxfreqlist) where\n",
    "\n",
    "minfreqlist is a list of numbers with minimum frequency in l, sorted in ascending order\n",
    "maxfreqlist is a list of numbers with maximum frequency in l, sorted in ascending order\n",
    "Here are some examples of how your function should work.\n",
    "\n",
    ">>> frequency([13,12,11,13,14,13,7,11,13,14,12])\n",
    "([7], [13])\n",
    "\n",
    ">>> frequency([13,12,11,13,14,13,7,11,13,14,12,14,14])\n",
    "([7], [13, 14])\n",
    "\n",
    ">>> frequency([13,12,11,13,14,13,7,11,13,14,12,14,14,7])\n",
    "([7, 11, 12], [13, 14])"
   ]
  },
  {
   "cell_type": "code",
   "execution_count": 45,
   "metadata": {
    "scrolled": true
   },
   "outputs": [
    {
     "data": {
      "text/plain": [
       "([13, 14], [7])"
      ]
     },
     "execution_count": 45,
     "metadata": {},
     "output_type": "execute_result"
    }
   ],
   "source": [
    "def frequency(l):\n",
    "    \n",
    "    d = dict.fromkeys(l)                                        #create dict from given list\n",
    "    ld = list(dict.fromkeys(l))                                 # create list of distinct elements\n",
    "    #print(ld)\n",
    "    \n",
    "    for i in range(len(ld)):                                   #give value for keys as count of occurance\n",
    "        d[ld[i]] = l.count(ld[i])\n",
    "    \n",
    "    #print(d)\n",
    "    lmax = []                                                  #create empty lists for max and min\n",
    "    lmin = []\n",
    "    maxkey = max(d,key = d.get)                                #max and min methods on dict checking for max and min on value\n",
    "    minkey = min(d,key = d.get)\n",
    "    lmax.append(maxkey)\n",
    "    for i in d:                                                #adding other max and min having same occurance as maxkey\n",
    "        #print(d[i])\n",
    "        if d[i] == d[maxkey] and i not in lmax:\n",
    "            lmax.append(i)\n",
    "        if d[i] == d[minkey] and i not in lmin:\n",
    "            lmin.append(i)\n",
    "    \n",
    "    lmax.sort()\n",
    "    lmin.sort()\n",
    "    \n",
    "    return(lmax,lmin)\n",
    "\n",
    "frequency([13,12,11,13,14,13,7,11,13,14,14,12,14])"
   ]
  },
  {
   "cell_type": "code",
   "execution_count": null,
   "metadata": {},
   "outputs": [],
   "source": []
  },
  {
   "cell_type": "raw",
   "metadata": {},
   "source": [
    "#2. Write a Python function onehop(l) that takes as input a list of pairs representing direct flights, as described above, and returns a list of all pairs (i,j), where i != j, such that i and j are connected by one hop. Note that it may already be the case that there is a direct flight from i to j. So long as there is an intermediate k with a flight from i to k and from k to j, the list returned by the function should include (i,j). The input list may be in any order. The pairs in the output list should be in lexicographic (dictionary) order. Each pair should be listed exactly once.\n",
    "\n",
    "Here are some examples of how your function should work.\n",
    "\n",
    " \n",
    ">>> onehop([(2,3),(1,2)])\n",
    "[(1, 3)]\n",
    "\n",
    ">>> onehop([(2,3),(1,2),(3,1),(1,3),(3,2),(2,4),(4,1)])\n",
    "[(1, 2), (1, 3), (1, 4), (2, 1), (3, 2), (3, 4), (4, 2), (4, 3)]\n",
    "\n",
    ">>> onehop([(1,2),(3,4),(5,6)])\n",
    "[]"
   ]
  },
  {
   "cell_type": "code",
   "execution_count": 20,
   "metadata": {},
   "outputs": [
    {
     "data": {
      "text/plain": [
       "[(1, 3)]"
      ]
     },
     "execution_count": 20,
     "metadata": {},
     "output_type": "execute_result"
    }
   ],
   "source": [
    "def onehop(l):\n",
    "    l2 = []\n",
    "    l3 = []\n",
    "    for i in range(len(l)):                                         \n",
    "        for j in range(len(l)):                                  \n",
    "            if l[i][1] == l[j][0]:                                  #comparing the source and destination\n",
    "                l2.append((l[i][0],l[j][1]))                        #if matching append new list with the pair\n",
    "                                                    \n",
    "    l2.sort()                                                       #sorting list               \n",
    "    l2 = list(dict.fromkeys(l2))                                    #removing duplicates\n",
    "    \n",
    "    for i in range(len(l2)):                                        #removing pairs with same elements\n",
    "        if l2[i][0] != l2[i][1]:\n",
    "            l3.append(l2[i])\n",
    "            \n",
    "    return(l3)\n",
    "\n",
    "onehop([(2,3),(1,2)])\n"
   ]
  },
  {
   "cell_type": "code",
   "execution_count": null,
   "metadata": {},
   "outputs": [],
   "source": []
  }
 ],
 "metadata": {
  "kernelspec": {
   "display_name": "Python 3",
   "language": "python",
   "name": "python3"
  },
  "language_info": {
   "codemirror_mode": {
    "name": "ipython",
    "version": 3
   },
   "file_extension": ".py",
   "mimetype": "text/x-python",
   "name": "python",
   "nbconvert_exporter": "python",
   "pygments_lexer": "ipython3",
   "version": "3.6.12"
  }
 },
 "nbformat": 4,
 "nbformat_minor": 4
}
